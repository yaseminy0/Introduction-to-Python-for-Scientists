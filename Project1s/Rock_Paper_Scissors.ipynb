{
 "cells": [
  {
   "cell_type": "markdown",
   "id": "d91f1233-2508-464a-8675-3803e9214bfe",
   "metadata": {},
   "source": [
    "## Project 1 (100 points)\n",
    "Requirements: \\\n",
    "(1) follow the instructions in the functions \\\n",
    "(2) do NOT change names and parameters of the functions  \\\n",
    "(3) dot NOT change the data type of the return from a function  \\\n",
    "(4) do NOT add new functions  \\\n",
    "(5) do NOT delete any existing functions  \\\n",
    "(6) any violation of the above requirements will result in a score of zero.  \\\n",
    "(7) the output messages from your functions should closely match those in this file "
   ]
  },
  {
   "cell_type": "markdown",
   "id": "f2741206-dc35-49ee-8302-20e42982ee0e",
   "metadata": {},
   "source": [
    "### Create your \"signature\"\n",
    "Run the cell below but do NOT modify the cell. \\\n",
    "The signature needs to be displayed right below the cell in this file. \\\n",
    "You will get zero point if the signature is not displayed."
   ]
  },
  {
   "cell_type": "code",
   "execution_count": 11,
   "id": "42bbde4b-dfc4-48e1-90d8-b81f3383df8a",
   "metadata": {},
   "outputs": [
    {
     "name": "stdout",
     "output_type": "stream",
     "text": [
      "['127.0.0.1', 'yaseminaleyna', datetime.datetime(2025, 10, 21, 1, 20, 1, 76629), 0.1184234382067052]\n"
     ]
    }
   ],
   "source": [
    "import platform, socket, getpass\n",
    "from time import time\n",
    "from datetime import datetime\n",
    "import random\n",
    "signature=[socket.gethostbyname(socket.gethostname()),\n",
    "           getpass.getuser(),\n",
    "           datetime.now(),\n",
    "           random.random()]\n",
    "print(signature) \n",
    "# if you got error, see this\n",
    "# https://stackoverflow.com/questions/39970606/gaierror-errno-8-nodename-nor-servname-provided-or-not-known-with-macos-sie"
   ]
  },
  {
   "cell_type": "code",
   "execution_count": 17,
   "id": "cf773c7a-7591-4ec4-8fd4-85df7a104bc2",
   "metadata": {},
   "outputs": [],
   "source": [
    "from random import randint"
   ]
  },
  {
   "cell_type": "code",
   "execution_count": 18,
   "id": "620d2d01-d771-4079-bc7a-906c1d31f353",
   "metadata": {},
   "outputs": [],
   "source": [
    "def HumanPlayer():\n",
    "        \n",
    "    '''\n",
    "    20 points\n",
    "    Return: HumanChoice\n",
    "            a string that can only be: \n",
    "            'r' means 'rock'\n",
    "            'p' means 'paper'\n",
    "            's' means 'scissors'\n",
    "            'g' means 'see the game record'\n",
    "            'q' means 'quit the game'\n",
    "    Description:\n",
    "        This function asks the user to make a choice (i.e., input a string)        \n",
    "        valid inputs are: rock or r, paper or p, scissors or s, game or g, quit or q\n",
    "            quit means the user wants to quit the game\n",
    "            game means the user wants to see the GameRecord\n",
    "        This function will NOT return/exit until it gets a valid input from the user\n",
    "            Thus, yoleu need a while loop\n",
    "    Example:\n",
    "        let's play ...................\n",
    "        rock(r), paper(p), scissors(s)?\n",
    "        or you want to see a record of the game (g)?\n",
    "        or you want to quit(q)?\n",
    "        please make your choice now: haha\n",
    "        The computer does not understand your input\n",
    "  '''\n",
    "    #your code: (~ 13 lines)\n",
    "    while True:\n",
    "        print(\"let's play ...................\")\n",
    "        print(\"rock(r), paper(p), scissors(s)? \")\n",
    "        print(\"or you want to see a record of the game (g)?\")\n",
    "        print(\"or you want to quit(q)?\")\n",
    "        HumanChoice = input(\"please make your choice now: \").lower().strip()\n",
    "\n",
    "        if len(HumanChoice)==1 and HumanChoice in ('r', 'p', 's', 'g', 'q'):\n",
    "            return HumanChoice\n",
    "        elif HumanChoice in ('rock', 'paper', 'scissors', 'game', 'quit'):\n",
    "            return HumanChoice[0]\n",
    "        else:\n",
    "            print(\"The computer does not understand your input\")\n",
    "       \n"
   ]
  },
  {
   "cell_type": "code",
   "execution_count": 19,
   "id": "866ca84d-a973-4aaa-8941-6325e7365f07",
   "metadata": {},
   "outputs": [],
   "source": [
    "def ComputerPlayer():\n",
    "\n",
    "    '''\n",
    "    10 points\n",
    "    Return: ComputerChoice\n",
    "            a string that can only be: 'r', 'p', or 's'\n",
    "            'r' means 'rock'\n",
    "            'p' means 'paper'\n",
    "            's' means 'scissors'\n",
    "    Description:\n",
    "        ComputerPlayer will randomly make a choice, using randint\n",
    "    '''\n",
    "    #your code: (~ 3 lines)\n",
    "    a =['r', 'p', 's']\n",
    "    i=randint(0,len(a)-1)\n",
    "    ComputerChoice=a[i]\n",
    "    return ComputerChoice"
   ]
  },
  {
   "cell_type": "code",
   "execution_count": 20,
   "id": "eb7d1aae-804b-462b-b86b-760561d7e229",
   "metadata": {},
   "outputs": [],
   "source": [
    "def Judge(ComputerChoice, HumanChoice):\n",
    "    '''\n",
    "    15 points\n",
    "    Parameters:\n",
    "        ComputerChoice is a string from ComputerPlayer\n",
    "        HumanChoice is a string from HumanPlayer\n",
    "    Return: Outcome\n",
    "        Outcome is 0 if it is a draw/tie\n",
    "        Outcome is 1 if ComputerPlayer wins\n",
    "        Outcome is 2 if HumanPlayer wins\n",
    "    Description:\n",
    "        this function determines the outcome of a game\n",
    "    Hint:\n",
    "        Outcome=None\n",
    "        if ComputerChoice == \"p\" and HumanChoice == \"s\":\n",
    "            Outcome = 2\n",
    "        elif...\n",
    "    '''\n",
    "    #your code: (~22 lines)\n",
    "    \n",
    "    Outcome=None\n",
    "    \n",
    "    if ComputerChoice == 'p' and HumanChoice == \"s\":\n",
    "        Outcome=2\n",
    "    elif ComputerChoice == 'p' and HumanChoice == \"r\":\n",
    "        Outcome=1\n",
    "    elif ComputerChoice == 'p' and HumanChoice == \"p\":\n",
    "        Outcome=0\n",
    "        \n",
    "    elif ComputerChoice == 'r' and HumanChoice == \"s\":\n",
    "        Outcome=1\n",
    "    elif ComputerChoice == 'r' and HumanChoice == \"r\":\n",
    "        Outcome=0\n",
    "    elif ComputerChoice == 'r' and HumanChoice == \"p\":\n",
    "        Outcome=2\n",
    "\n",
    "    elif ComputerChoice == 's' and HumanChoice == \"s\":\n",
    "        Outcome=0\n",
    "    elif ComputerChoice == 's' and HumanChoice == \"r\":\n",
    "        Outcome=2\n",
    "    elif ComputerChoice == 's' and HumanChoice == \"p\":\n",
    "        Outcome=1\n",
    "    return Outcome"
   ]
  },
  {
   "cell_type": "code",
   "execution_count": 21,
   "id": "a38fe29f-efe7-4830-b77f-7ebf336d8a83",
   "metadata": {},
   "outputs": [],
   "source": [
    "def PrintOutcome(Outcome, ComputerChoice, HumanChoice):\n",
    "    '''\n",
    "    5 points\n",
    "    Parameters:\n",
    "        Outcome is from Judge\n",
    "        ComputerChoice is a string from ComputerPlayer\n",
    "        HumanChoice is a string from HumanPlayer\n",
    "    Return: None\n",
    "    Description:\n",
    "        print Outcome, Choices and Players to the console window\n",
    "        read RPS_sample_run.pdf for more details\n",
    "    Example:\n",
    "        -------------------------------Outcome---------------------------------------\n",
    "        Human wins: Computer chose s ; Human chose r\n",
    "        -----------------------------------------------------------------------------\n",
    "    '''\n",
    "    #your code:\n",
    "    if Outcome==0:\n",
    "        print('-------------------------------Outcome---------------------------------------')\n",
    "        print(f\"It is a tie: Computer chose {ComputerChoice} ; Human chose {HumanChoice}\")\n",
    "        print('-----------------------------------------------------------------------------')\n",
    "    elif Outcome==1:\n",
    "        print('-------------------------------Outcome---------------------------------------')\n",
    "        print(f\"Computer wins: Computer chose {ComputerChoice} ; Human chose {HumanChoice}\")\n",
    "        print('-----------------------------------------------------------------------------')\n",
    "    elif Outcome==2:\n",
    "        print('-------------------------------Outcome---------------------------------------')\n",
    "        print(f\"Human wins: Computer chose {ComputerChoice} ; Human chose {HumanChoice}\")\n",
    "        print('-----------------------------------------------------------------------------')\n",
    "    return None"
   ]
  },
  {
   "cell_type": "code",
   "execution_count": 22,
   "id": "517b3e8f-5b48-46cc-96e6-799ec344ef5e",
   "metadata": {},
   "outputs": [],
   "source": [
    "def UpdateGameRecord(GameRecord, ComputerChoice, HumanChoice, Outcome):\n",
    "    '''\n",
    "    10 points\n",
    "    Parameters: \n",
    "        GameRecord is the record of both players' choices and and outcomes\n",
    "        ComputerChoice is a string from ComputerPlayer\n",
    "        HumanChoice is a string from HumanPlayer\n",
    "        Outcome is an integer from Judge\n",
    "    Return: None\n",
    "    Description:\n",
    "        this function updates GameRecord\n",
    "    Hint:\n",
    "        GameRecord[\"ComputerPlayer\"].append(ComputerChoice)\n",
    "    '''\n",
    "    #your code: (~3 lines)\n",
    "    \n",
    "    GameRecord[\"Computer\"].append(ComputerChoice)\n",
    "    GameRecord[\"Human\"].append(HumanChoice)\n",
    "    GameRecord[\"Outcome\"].append(Outcome)\n",
    "    return None"
   ]
  },
  {
   "cell_type": "code",
   "execution_count": 23,
   "id": "7fb5d9c4-ab43-4d1c-8318-3a1b6c257dbe",
   "metadata": {},
   "outputs": [],
   "source": [
    "def PrintGameRecord(GameRecord):\n",
    "    '''\n",
    "    20 points\n",
    "    Parameters: GameRecord (the record of both players' choices and outcomes)\n",
    "    Return: None\n",
    "    Description: \n",
    "        this function prints the record of the game (see the sample run)\n",
    "        the number of rounds. human wins x rounds. computer wins y rounds.\n",
    "        the record of choices.\n",
    "    Example:\n",
    "        -------Record of the Game------\n",
    "        The number of rounds is 10\n",
    "        Human wins 4 round(s)\n",
    "        Computer wins 4 round(s)\n",
    "        Human, Computer\n",
    "        r , s\n",
    "        r , s\n",
    "        r , p\n",
    "        r , r\n",
    "        p , s\n",
    "        p , r\n",
    "        p , r\n",
    "        s , r\n",
    "        p , s\n",
    "        p , p\n",
    "        -------------------------------\n",
    "    '''\n",
    "    print(\"-------Record of the Game------\")\n",
    "\n",
    "    rounds = len(GameRecord[\"Outcome\"])\n",
    "    human_wins = GameRecord[\"Outcome\"].count(2)\n",
    "    computer_wins = GameRecord[\"Outcome\"].count(1)\n",
    "\n",
    "    print(f\"The number of rounds is {rounds}\")\n",
    "    print(f\"Human wins {human_wins} round(s)\")\n",
    "    print(f\"Computer wins {computer_wins} round(s)\")\n",
    "    print(\"Human, Computer\")\n",
    "\n",
    "    for h, c in zip(GameRecord[\"Human\"], GameRecord[\"Computer\"]):\n",
    "        print(f\"{h} , {c}\")\n",
    "        \n",
    "    print(\"-------------------------------\")\n",
    "    return None"
   ]
  },
  {
   "cell_type": "code",
   "execution_count": 24,
   "id": "a0d747cc-51b4-44e8-8e4b-4b312b08838d",
   "metadata": {},
   "outputs": [],
   "source": [
    "def PlayGame():\n",
    "    '''\n",
    "    20 points    \n",
    "    Hint:\n",
    "    print(\"Welcome to rock-paper-scissors !\")\n",
    "    GameRecord={\"Human\":[], \"Computer\":[], \"Outcome\":[]}\n",
    "    condition=True\n",
    "    while condition:\n",
    "        get a choice of the human using HumanPlayer\n",
    "        if the human's choice is 'quit' or 'q':\n",
    "            set condition to False\n",
    "        else if the human's choice is 'game' or 'g':\n",
    "            print the GameRecord using PrintGameRecord\n",
    "        else:        \n",
    "            get a choice of the computer using ComputerPlayer\n",
    "            get the outcome from Judge\n",
    "            print the outcome using PrintOutcome\n",
    "            update the GameRecord using UpdateGameRecord\n",
    "    print(\"------------GameOver----------\")    \n",
    "\n",
    "\n",
    "    '''\n",
    "    #your code:\n",
    "    print(\"Welcome to rock-paper-scissors !\")\n",
    "    GameRecord={\"Human\":[], \"Computer\":[], \"Outcome\":[]}\n",
    "    while True:\n",
    "        HumanChoice=HumanPlayer()\n",
    "        if HumanChoice == 'q':\n",
    "            break\n",
    "        elif HumanChoice == 'g':\n",
    "            PrintGameRecord(GameRecord)\n",
    "            continue\n",
    "            \n",
    "        else:\n",
    "            ComputerChoice = ComputerPlayer()\n",
    "            Outcome  = Judge(ComputerChoice, HumanChoice)\n",
    "            PrintOutcome(Outcome, ComputerChoice, HumanChoice)\n",
    "            UpdateGameRecord(GameRecord, ComputerChoice, HumanChoice, Outcome)      \n",
    "    print(\"------------GameOver----------\")"
   ]
  },
  {
   "cell_type": "markdown",
   "id": "1ffda0b1-5f06-45d5-992f-397ab5e957bd",
   "metadata": {},
   "source": [
    "### Run the game\n",
    "You will get zero point if nothing shows below. \\\n",
    "The outputs from your program should closely match those in the cell below."
   ]
  },
  {
   "cell_type": "code",
   "execution_count": 26,
   "id": "871094c1-d5dc-44fc-a5d7-88caf9836d90",
   "metadata": {},
   "outputs": [
    {
     "name": "stdout",
     "output_type": "stream",
     "text": [
      "Welcome to rock-paper-scissors !\n",
      "let's play ...................\n",
      "rock(r), paper(p), scissors(s)? \n",
      "or you want to see a record of the game (g)?\n",
      "or you want to quit(q)?\n"
     ]
    },
    {
     "name": "stdin",
     "output_type": "stream",
     "text": [
      "please make your choice now:  s\n"
     ]
    },
    {
     "name": "stdout",
     "output_type": "stream",
     "text": [
      "-------------------------------Outcome---------------------------------------\n",
      "It is a tie: Computer chose s ; Human chose s\n",
      "-----------------------------------------------------------------------------\n",
      "let's play ...................\n",
      "rock(r), paper(p), scissors(s)? \n",
      "or you want to see a record of the game (g)?\n",
      "or you want to quit(q)?\n"
     ]
    },
    {
     "name": "stdin",
     "output_type": "stream",
     "text": [
      "please make your choice now:  scissors\n"
     ]
    },
    {
     "name": "stdout",
     "output_type": "stream",
     "text": [
      "-------------------------------Outcome---------------------------------------\n",
      "Human wins: Computer chose p ; Human chose s\n",
      "-----------------------------------------------------------------------------\n",
      "let's play ...................\n",
      "rock(r), paper(p), scissors(s)? \n",
      "or you want to see a record of the game (g)?\n",
      "or you want to quit(q)?\n"
     ]
    },
    {
     "name": "stdin",
     "output_type": "stream",
     "text": [
      "please make your choice now:  SCISSORS\n"
     ]
    },
    {
     "name": "stdout",
     "output_type": "stream",
     "text": [
      "-------------------------------Outcome---------------------------------------\n",
      "Human wins: Computer chose p ; Human chose s\n",
      "-----------------------------------------------------------------------------\n",
      "let's play ...................\n",
      "rock(r), paper(p), scissors(s)? \n",
      "or you want to see a record of the game (g)?\n",
      "or you want to quit(q)?\n"
     ]
    },
    {
     "name": "stdin",
     "output_type": "stream",
     "text": [
      "please make your choice now:  S\n"
     ]
    },
    {
     "name": "stdout",
     "output_type": "stream",
     "text": [
      "-------------------------------Outcome---------------------------------------\n",
      "Computer wins: Computer chose r ; Human chose s\n",
      "-----------------------------------------------------------------------------\n",
      "let's play ...................\n",
      "rock(r), paper(p), scissors(s)? \n",
      "or you want to see a record of the game (g)?\n",
      "or you want to quit(q)?\n"
     ]
    },
    {
     "name": "stdin",
     "output_type": "stream",
     "text": [
      "please make your choice now:  p\n"
     ]
    },
    {
     "name": "stdout",
     "output_type": "stream",
     "text": [
      "-------------------------------Outcome---------------------------------------\n",
      "Computer wins: Computer chose s ; Human chose p\n",
      "-----------------------------------------------------------------------------\n",
      "let's play ...................\n",
      "rock(r), paper(p), scissors(s)? \n",
      "or you want to see a record of the game (g)?\n",
      "or you want to quit(q)?\n"
     ]
    },
    {
     "name": "stdin",
     "output_type": "stream",
     "text": [
      "please make your choice now:  paper\n"
     ]
    },
    {
     "name": "stdout",
     "output_type": "stream",
     "text": [
      "-------------------------------Outcome---------------------------------------\n",
      "Computer wins: Computer chose s ; Human chose p\n",
      "-----------------------------------------------------------------------------\n",
      "let's play ...................\n",
      "rock(r), paper(p), scissors(s)? \n",
      "or you want to see a record of the game (g)?\n",
      "or you want to quit(q)?\n"
     ]
    },
    {
     "name": "stdin",
     "output_type": "stream",
     "text": [
      "please make your choice now:  PAPER\n"
     ]
    },
    {
     "name": "stdout",
     "output_type": "stream",
     "text": [
      "-------------------------------Outcome---------------------------------------\n",
      "Human wins: Computer chose r ; Human chose p\n",
      "-----------------------------------------------------------------------------\n",
      "let's play ...................\n",
      "rock(r), paper(p), scissors(s)? \n",
      "or you want to see a record of the game (g)?\n",
      "or you want to quit(q)?\n"
     ]
    },
    {
     "name": "stdin",
     "output_type": "stream",
     "text": [
      "please make your choice now:  P\n"
     ]
    },
    {
     "name": "stdout",
     "output_type": "stream",
     "text": [
      "-------------------------------Outcome---------------------------------------\n",
      "It is a tie: Computer chose p ; Human chose p\n",
      "-----------------------------------------------------------------------------\n",
      "let's play ...................\n",
      "rock(r), paper(p), scissors(s)? \n",
      "or you want to see a record of the game (g)?\n",
      "or you want to quit(q)?\n"
     ]
    },
    {
     "name": "stdin",
     "output_type": "stream",
     "text": [
      "please make your choice now:  r\n"
     ]
    },
    {
     "name": "stdout",
     "output_type": "stream",
     "text": [
      "-------------------------------Outcome---------------------------------------\n",
      "Human wins: Computer chose s ; Human chose r\n",
      "-----------------------------------------------------------------------------\n",
      "let's play ...................\n",
      "rock(r), paper(p), scissors(s)? \n",
      "or you want to see a record of the game (g)?\n",
      "or you want to quit(q)?\n"
     ]
    },
    {
     "name": "stdin",
     "output_type": "stream",
     "text": [
      "please make your choice now:  rock\n"
     ]
    },
    {
     "name": "stdout",
     "output_type": "stream",
     "text": [
      "-------------------------------Outcome---------------------------------------\n",
      "Computer wins: Computer chose p ; Human chose r\n",
      "-----------------------------------------------------------------------------\n",
      "let's play ...................\n",
      "rock(r), paper(p), scissors(s)? \n",
      "or you want to see a record of the game (g)?\n",
      "or you want to quit(q)?\n"
     ]
    },
    {
     "name": "stdin",
     "output_type": "stream",
     "text": [
      "please make your choice now:  ROCK\n"
     ]
    },
    {
     "name": "stdout",
     "output_type": "stream",
     "text": [
      "-------------------------------Outcome---------------------------------------\n",
      "Computer wins: Computer chose p ; Human chose r\n",
      "-----------------------------------------------------------------------------\n",
      "let's play ...................\n",
      "rock(r), paper(p), scissors(s)? \n",
      "or you want to see a record of the game (g)?\n",
      "or you want to quit(q)?\n"
     ]
    },
    {
     "name": "stdin",
     "output_type": "stream",
     "text": [
      "please make your choice now:  R\n"
     ]
    },
    {
     "name": "stdout",
     "output_type": "stream",
     "text": [
      "-------------------------------Outcome---------------------------------------\n",
      "It is a tie: Computer chose r ; Human chose r\n",
      "-----------------------------------------------------------------------------\n",
      "let's play ...................\n",
      "rock(r), paper(p), scissors(s)? \n",
      "or you want to see a record of the game (g)?\n",
      "or you want to quit(q)?\n"
     ]
    },
    {
     "name": "stdin",
     "output_type": "stream",
     "text": [
      "please make your choice now:  ASDF\n"
     ]
    },
    {
     "name": "stdout",
     "output_type": "stream",
     "text": [
      "The computer does not understand your input\n",
      "let's play ...................\n",
      "rock(r), paper(p), scissors(s)? \n",
      "or you want to see a record of the game (g)?\n",
      "or you want to quit(q)?\n"
     ]
    },
    {
     "name": "stdin",
     "output_type": "stream",
     "text": [
      "please make your choice now:  asdfg\n"
     ]
    },
    {
     "name": "stdout",
     "output_type": "stream",
     "text": [
      "The computer does not understand your input\n",
      "let's play ...................\n",
      "rock(r), paper(p), scissors(s)? \n",
      "or you want to see a record of the game (g)?\n",
      "or you want to quit(q)?\n"
     ]
    },
    {
     "name": "stdin",
     "output_type": "stream",
     "text": [
      "please make your choice now:  game\n"
     ]
    },
    {
     "name": "stdout",
     "output_type": "stream",
     "text": [
      "-------Record of the Game------\n",
      "The number of rounds is 12\n",
      "Human wins 4 round(s)\n",
      "Computer wins 5 round(s)\n",
      "Human, Computer\n",
      "s , s\n",
      "s , p\n",
      "s , p\n",
      "s , r\n",
      "p , s\n",
      "p , s\n",
      "p , r\n",
      "p , p\n",
      "r , s\n",
      "r , p\n",
      "r , p\n",
      "r , r\n",
      "-------------------------------\n",
      "let's play ...................\n",
      "rock(r), paper(p), scissors(s)? \n",
      "or you want to see a record of the game (g)?\n",
      "or you want to quit(q)?\n"
     ]
    },
    {
     "name": "stdin",
     "output_type": "stream",
     "text": [
      "please make your choice now:  GAME\n"
     ]
    },
    {
     "name": "stdout",
     "output_type": "stream",
     "text": [
      "-------Record of the Game------\n",
      "The number of rounds is 12\n",
      "Human wins 4 round(s)\n",
      "Computer wins 5 round(s)\n",
      "Human, Computer\n",
      "s , s\n",
      "s , p\n",
      "s , p\n",
      "s , r\n",
      "p , s\n",
      "p , s\n",
      "p , r\n",
      "p , p\n",
      "r , s\n",
      "r , p\n",
      "r , p\n",
      "r , r\n",
      "-------------------------------\n",
      "let's play ...................\n",
      "rock(r), paper(p), scissors(s)? \n",
      "or you want to see a record of the game (g)?\n",
      "or you want to quit(q)?\n"
     ]
    },
    {
     "name": "stdin",
     "output_type": "stream",
     "text": [
      "please make your choice now:  G\n"
     ]
    },
    {
     "name": "stdout",
     "output_type": "stream",
     "text": [
      "-------Record of the Game------\n",
      "The number of rounds is 12\n",
      "Human wins 4 round(s)\n",
      "Computer wins 5 round(s)\n",
      "Human, Computer\n",
      "s , s\n",
      "s , p\n",
      "s , p\n",
      "s , r\n",
      "p , s\n",
      "p , s\n",
      "p , r\n",
      "p , p\n",
      "r , s\n",
      "r , p\n",
      "r , p\n",
      "r , r\n",
      "-------------------------------\n",
      "let's play ...................\n",
      "rock(r), paper(p), scissors(s)? \n",
      "or you want to see a record of the game (g)?\n",
      "or you want to quit(q)?\n"
     ]
    },
    {
     "name": "stdin",
     "output_type": "stream",
     "text": [
      "please make your choice now:  g\n"
     ]
    },
    {
     "name": "stdout",
     "output_type": "stream",
     "text": [
      "-------Record of the Game------\n",
      "The number of rounds is 12\n",
      "Human wins 4 round(s)\n",
      "Computer wins 5 round(s)\n",
      "Human, Computer\n",
      "s , s\n",
      "s , p\n",
      "s , p\n",
      "s , r\n",
      "p , s\n",
      "p , s\n",
      "p , r\n",
      "p , p\n",
      "r , s\n",
      "r , p\n",
      "r , p\n",
      "r , r\n",
      "-------------------------------\n",
      "let's play ...................\n",
      "rock(r), paper(p), scissors(s)? \n",
      "or you want to see a record of the game (g)?\n",
      "or you want to quit(q)?\n"
     ]
    },
    {
     "name": "stdin",
     "output_type": "stream",
     "text": [
      "please make your choice now:  q\n"
     ]
    },
    {
     "name": "stdout",
     "output_type": "stream",
     "text": [
      "------------GameOver----------\n"
     ]
    }
   ],
   "source": [
    "PlayGame()"
   ]
  },
  {
   "cell_type": "code",
   "execution_count": null,
   "id": "1bd78e8a-006a-4c77-b976-9db76283e9a5",
   "metadata": {},
   "outputs": [],
   "source": []
  }
 ],
 "metadata": {
  "kernelspec": {
   "display_name": "Python (ds)",
   "language": "python",
   "name": "ds"
  },
  "language_info": {
   "codemirror_mode": {
    "name": "ipython",
    "version": 3
   },
   "file_extension": ".py",
   "mimetype": "text/x-python",
   "name": "python",
   "nbconvert_exporter": "python",
   "pygments_lexer": "ipython3",
   "version": "3.12.11"
  }
 },
 "nbformat": 4,
 "nbformat_minor": 5
}
